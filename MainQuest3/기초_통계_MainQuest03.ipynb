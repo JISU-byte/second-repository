{
  "nbformat": 4,
  "nbformat_minor": 0,
  "metadata": {
    "colab": {
      "provenance": [],
      "include_colab_link": true
    },
    "kernelspec": {
      "name": "python3",
      "display_name": "Python 3"
    },
    "language_info": {
      "name": "python"
    }
  },
  "cells": [
    {
      "cell_type": "markdown",
      "metadata": {
        "id": "view-in-github",
        "colab_type": "text"
      },
      "source": [
        "<a href=\"https://colab.research.google.com/github/JISU-byte/second-repository/blob/master/MainQuest3/%EA%B8%B0%EC%B4%88_%ED%86%B5%EA%B3%84_MainQuest03.ipynb\" target=\"_parent\"><img src=\"https://colab.research.google.com/assets/colab-badge.svg\" alt=\"Open In Colab\"/></a>"
      ]
    },
    {
      "cell_type": "code",
      "execution_count": 1,
      "metadata": {
        "id": "roCZN58vEV8j"
      },
      "outputs": [],
      "source": [
        "import pandas as pd\n",
        "import numpy as np\n",
        "import matplotlib.pyplot as plt\n",
        "import seaborn as sns"
      ]
    },
    {
      "cell_type": "code",
      "source": [
        "!pip install kagglehub"
      ],
      "metadata": {
        "id": "Ln2ta7MtEeBn",
        "colab": {
          "base_uri": "https://localhost:8080/"
        },
        "outputId": "f90073b9-4315-4f04-8c53-868b3803e77c"
      },
      "execution_count": 2,
      "outputs": [
        {
          "output_type": "stream",
          "name": "stdout",
          "text": [
            "Requirement already satisfied: kagglehub in /usr/local/lib/python3.12/dist-packages (0.3.13)\n",
            "Requirement already satisfied: packaging in /usr/local/lib/python3.12/dist-packages (from kagglehub) (25.0)\n",
            "Requirement already satisfied: pyyaml in /usr/local/lib/python3.12/dist-packages (from kagglehub) (6.0.3)\n",
            "Requirement already satisfied: requests in /usr/local/lib/python3.12/dist-packages (from kagglehub) (2.32.4)\n",
            "Requirement already satisfied: tqdm in /usr/local/lib/python3.12/dist-packages (from kagglehub) (4.67.1)\n",
            "Requirement already satisfied: charset_normalizer<4,>=2 in /usr/local/lib/python3.12/dist-packages (from requests->kagglehub) (3.4.4)\n",
            "Requirement already satisfied: idna<4,>=2.5 in /usr/local/lib/python3.12/dist-packages (from requests->kagglehub) (3.11)\n",
            "Requirement already satisfied: urllib3<3,>=1.21.1 in /usr/local/lib/python3.12/dist-packages (from requests->kagglehub) (2.5.0)\n",
            "Requirement already satisfied: certifi>=2017.4.17 in /usr/local/lib/python3.12/dist-packages (from requests->kagglehub) (2025.10.5)\n"
          ]
        }
      ]
    },
    {
      "cell_type": "code",
      "source": [
        "import kagglehub\n",
        "import os\n",
        "\n",
        "# Download latest version\n",
        "path = kagglehub.dataset_download(\"tunguz/online-retail\")\n",
        "\n",
        "print(\"Path to dataset files:\", path)\n",
        "df = pd.read_csv(path + '/' + os.listdir(path)[0], encoding='latin1')\n",
        "df.shape"
      ],
      "metadata": {
        "id": "nzm86qcTEXKO",
        "colab": {
          "base_uri": "https://localhost:8080/"
        },
        "outputId": "5e7d0589-e66d-4505-b788-80f55b07f11c"
      },
      "execution_count": 3,
      "outputs": [
        {
          "output_type": "stream",
          "name": "stdout",
          "text": [
            "Using Colab cache for faster access to the 'online-retail' dataset.\n",
            "Path to dataset files: /kaggle/input/online-retail\n"
          ]
        },
        {
          "output_type": "execute_result",
          "data": {
            "text/plain": [
              "(541909, 8)"
            ]
          },
          "metadata": {},
          "execution_count": 3
        }
      ]
    },
    {
      "cell_type": "code",
      "source": [
        "df.head()"
      ],
      "metadata": {
        "id": "1a1z6CpsMVmm",
        "colab": {
          "base_uri": "https://localhost:8080/",
          "height": 504
        },
        "outputId": "0cc1d66b-3da1-43c8-e64d-248207cd2940"
      },
      "execution_count": 4,
      "outputs": [
        {
          "output_type": "execute_result",
          "data": {
            "text/plain": [
              "  InvoiceNo StockCode                          Description  Quantity  \\\n",
              "0    536365    85123A   WHITE HANGING HEART T-LIGHT HOLDER         6   \n",
              "1    536365     71053                  WHITE METAL LANTERN         6   \n",
              "2    536365    84406B       CREAM CUPID HEARTS COAT HANGER         8   \n",
              "3    536365    84029G  KNITTED UNION FLAG HOT WATER BOTTLE         6   \n",
              "4    536365    84029E       RED WOOLLY HOTTIE WHITE HEART.         6   \n",
              "\n",
              "    InvoiceDate  UnitPrice  CustomerID         Country  \n",
              "0  12/1/10 8:26       2.55     17850.0  United Kingdom  \n",
              "1  12/1/10 8:26       3.39     17850.0  United Kingdom  \n",
              "2  12/1/10 8:26       2.75     17850.0  United Kingdom  \n",
              "3  12/1/10 8:26       3.39     17850.0  United Kingdom  \n",
              "4  12/1/10 8:26       3.39     17850.0  United Kingdom  "
            ],
            "text/html": [
              "\n",
              "  <div id=\"df-7eb2350d-b998-4727-93e8-ee1f06c135b7\" class=\"colab-df-container\">\n",
              "    <div>\n",
              "<style scoped>\n",
              "    .dataframe tbody tr th:only-of-type {\n",
              "        vertical-align: middle;\n",
              "    }\n",
              "\n",
              "    .dataframe tbody tr th {\n",
              "        vertical-align: top;\n",
              "    }\n",
              "\n",
              "    .dataframe thead th {\n",
              "        text-align: right;\n",
              "    }\n",
              "</style>\n",
              "<table border=\"1\" class=\"dataframe\">\n",
              "  <thead>\n",
              "    <tr style=\"text-align: right;\">\n",
              "      <th></th>\n",
              "      <th>InvoiceNo</th>\n",
              "      <th>StockCode</th>\n",
              "      <th>Description</th>\n",
              "      <th>Quantity</th>\n",
              "      <th>InvoiceDate</th>\n",
              "      <th>UnitPrice</th>\n",
              "      <th>CustomerID</th>\n",
              "      <th>Country</th>\n",
              "    </tr>\n",
              "  </thead>\n",
              "  <tbody>\n",
              "    <tr>\n",
              "      <th>0</th>\n",
              "      <td>536365</td>\n",
              "      <td>85123A</td>\n",
              "      <td>WHITE HANGING HEART T-LIGHT HOLDER</td>\n",
              "      <td>6</td>\n",
              "      <td>12/1/10 8:26</td>\n",
              "      <td>2.55</td>\n",
              "      <td>17850.0</td>\n",
              "      <td>United Kingdom</td>\n",
              "    </tr>\n",
              "    <tr>\n",
              "      <th>1</th>\n",
              "      <td>536365</td>\n",
              "      <td>71053</td>\n",
              "      <td>WHITE METAL LANTERN</td>\n",
              "      <td>6</td>\n",
              "      <td>12/1/10 8:26</td>\n",
              "      <td>3.39</td>\n",
              "      <td>17850.0</td>\n",
              "      <td>United Kingdom</td>\n",
              "    </tr>\n",
              "    <tr>\n",
              "      <th>2</th>\n",
              "      <td>536365</td>\n",
              "      <td>84406B</td>\n",
              "      <td>CREAM CUPID HEARTS COAT HANGER</td>\n",
              "      <td>8</td>\n",
              "      <td>12/1/10 8:26</td>\n",
              "      <td>2.75</td>\n",
              "      <td>17850.0</td>\n",
              "      <td>United Kingdom</td>\n",
              "    </tr>\n",
              "    <tr>\n",
              "      <th>3</th>\n",
              "      <td>536365</td>\n",
              "      <td>84029G</td>\n",
              "      <td>KNITTED UNION FLAG HOT WATER BOTTLE</td>\n",
              "      <td>6</td>\n",
              "      <td>12/1/10 8:26</td>\n",
              "      <td>3.39</td>\n",
              "      <td>17850.0</td>\n",
              "      <td>United Kingdom</td>\n",
              "    </tr>\n",
              "    <tr>\n",
              "      <th>4</th>\n",
              "      <td>536365</td>\n",
              "      <td>84029E</td>\n",
              "      <td>RED WOOLLY HOTTIE WHITE HEART.</td>\n",
              "      <td>6</td>\n",
              "      <td>12/1/10 8:26</td>\n",
              "      <td>3.39</td>\n",
              "      <td>17850.0</td>\n",
              "      <td>United Kingdom</td>\n",
              "    </tr>\n",
              "  </tbody>\n",
              "</table>\n",
              "</div>\n",
              "    <div class=\"colab-df-buttons\">\n",
              "\n",
              "  <div class=\"colab-df-container\">\n",
              "    <button class=\"colab-df-convert\" onclick=\"convertToInteractive('df-7eb2350d-b998-4727-93e8-ee1f06c135b7')\"\n",
              "            title=\"Convert this dataframe to an interactive table.\"\n",
              "            style=\"display:none;\">\n",
              "\n",
              "  <svg xmlns=\"http://www.w3.org/2000/svg\" height=\"24px\" viewBox=\"0 -960 960 960\">\n",
              "    <path d=\"M120-120v-720h720v720H120Zm60-500h600v-160H180v160Zm220 220h160v-160H400v160Zm0 220h160v-160H400v160ZM180-400h160v-160H180v160Zm440 0h160v-160H620v160ZM180-180h160v-160H180v160Zm440 0h160v-160H620v160Z\"/>\n",
              "  </svg>\n",
              "    </button>\n",
              "\n",
              "  <style>\n",
              "    .colab-df-container {\n",
              "      display:flex;\n",
              "      gap: 12px;\n",
              "    }\n",
              "\n",
              "    .colab-df-convert {\n",
              "      background-color: #E8F0FE;\n",
              "      border: none;\n",
              "      border-radius: 50%;\n",
              "      cursor: pointer;\n",
              "      display: none;\n",
              "      fill: #1967D2;\n",
              "      height: 32px;\n",
              "      padding: 0 0 0 0;\n",
              "      width: 32px;\n",
              "    }\n",
              "\n",
              "    .colab-df-convert:hover {\n",
              "      background-color: #E2EBFA;\n",
              "      box-shadow: 0px 1px 2px rgba(60, 64, 67, 0.3), 0px 1px 3px 1px rgba(60, 64, 67, 0.15);\n",
              "      fill: #174EA6;\n",
              "    }\n",
              "\n",
              "    .colab-df-buttons div {\n",
              "      margin-bottom: 4px;\n",
              "    }\n",
              "\n",
              "    [theme=dark] .colab-df-convert {\n",
              "      background-color: #3B4455;\n",
              "      fill: #D2E3FC;\n",
              "    }\n",
              "\n",
              "    [theme=dark] .colab-df-convert:hover {\n",
              "      background-color: #434B5C;\n",
              "      box-shadow: 0px 1px 3px 1px rgba(0, 0, 0, 0.15);\n",
              "      filter: drop-shadow(0px 1px 2px rgba(0, 0, 0, 0.3));\n",
              "      fill: #FFFFFF;\n",
              "    }\n",
              "  </style>\n",
              "\n",
              "    <script>\n",
              "      const buttonEl =\n",
              "        document.querySelector('#df-7eb2350d-b998-4727-93e8-ee1f06c135b7 button.colab-df-convert');\n",
              "      buttonEl.style.display =\n",
              "        google.colab.kernel.accessAllowed ? 'block' : 'none';\n",
              "\n",
              "      async function convertToInteractive(key) {\n",
              "        const element = document.querySelector('#df-7eb2350d-b998-4727-93e8-ee1f06c135b7');\n",
              "        const dataTable =\n",
              "          await google.colab.kernel.invokeFunction('convertToInteractive',\n",
              "                                                    [key], {});\n",
              "        if (!dataTable) return;\n",
              "\n",
              "        const docLinkHtml = 'Like what you see? Visit the ' +\n",
              "          '<a target=\"_blank\" href=https://colab.research.google.com/notebooks/data_table.ipynb>data table notebook</a>'\n",
              "          + ' to learn more about interactive tables.';\n",
              "        element.innerHTML = '';\n",
              "        dataTable['output_type'] = 'display_data';\n",
              "        await google.colab.output.renderOutput(dataTable, element);\n",
              "        const docLink = document.createElement('div');\n",
              "        docLink.innerHTML = docLinkHtml;\n",
              "        element.appendChild(docLink);\n",
              "      }\n",
              "    </script>\n",
              "  </div>\n",
              "\n",
              "\n",
              "    <div id=\"df-d59c8463-87bf-4211-9cd8-441cbb131b3c\">\n",
              "      <button class=\"colab-df-quickchart\" onclick=\"quickchart('df-d59c8463-87bf-4211-9cd8-441cbb131b3c')\"\n",
              "                title=\"Suggest charts\"\n",
              "                style=\"display:none;\">\n",
              "\n",
              "<svg xmlns=\"http://www.w3.org/2000/svg\" height=\"24px\"viewBox=\"0 0 24 24\"\n",
              "     width=\"24px\">\n",
              "    <g>\n",
              "        <path d=\"M19 3H5c-1.1 0-2 .9-2 2v14c0 1.1.9 2 2 2h14c1.1 0 2-.9 2-2V5c0-1.1-.9-2-2-2zM9 17H7v-7h2v7zm4 0h-2V7h2v10zm4 0h-2v-4h2v4z\"/>\n",
              "    </g>\n",
              "</svg>\n",
              "      </button>\n",
              "\n",
              "<style>\n",
              "  .colab-df-quickchart {\n",
              "      --bg-color: #E8F0FE;\n",
              "      --fill-color: #1967D2;\n",
              "      --hover-bg-color: #E2EBFA;\n",
              "      --hover-fill-color: #174EA6;\n",
              "      --disabled-fill-color: #AAA;\n",
              "      --disabled-bg-color: #DDD;\n",
              "  }\n",
              "\n",
              "  [theme=dark] .colab-df-quickchart {\n",
              "      --bg-color: #3B4455;\n",
              "      --fill-color: #D2E3FC;\n",
              "      --hover-bg-color: #434B5C;\n",
              "      --hover-fill-color: #FFFFFF;\n",
              "      --disabled-bg-color: #3B4455;\n",
              "      --disabled-fill-color: #666;\n",
              "  }\n",
              "\n",
              "  .colab-df-quickchart {\n",
              "    background-color: var(--bg-color);\n",
              "    border: none;\n",
              "    border-radius: 50%;\n",
              "    cursor: pointer;\n",
              "    display: none;\n",
              "    fill: var(--fill-color);\n",
              "    height: 32px;\n",
              "    padding: 0;\n",
              "    width: 32px;\n",
              "  }\n",
              "\n",
              "  .colab-df-quickchart:hover {\n",
              "    background-color: var(--hover-bg-color);\n",
              "    box-shadow: 0 1px 2px rgba(60, 64, 67, 0.3), 0 1px 3px 1px rgba(60, 64, 67, 0.15);\n",
              "    fill: var(--button-hover-fill-color);\n",
              "  }\n",
              "\n",
              "  .colab-df-quickchart-complete:disabled,\n",
              "  .colab-df-quickchart-complete:disabled:hover {\n",
              "    background-color: var(--disabled-bg-color);\n",
              "    fill: var(--disabled-fill-color);\n",
              "    box-shadow: none;\n",
              "  }\n",
              "\n",
              "  .colab-df-spinner {\n",
              "    border: 2px solid var(--fill-color);\n",
              "    border-color: transparent;\n",
              "    border-bottom-color: var(--fill-color);\n",
              "    animation:\n",
              "      spin 1s steps(1) infinite;\n",
              "  }\n",
              "\n",
              "  @keyframes spin {\n",
              "    0% {\n",
              "      border-color: transparent;\n",
              "      border-bottom-color: var(--fill-color);\n",
              "      border-left-color: var(--fill-color);\n",
              "    }\n",
              "    20% {\n",
              "      border-color: transparent;\n",
              "      border-left-color: var(--fill-color);\n",
              "      border-top-color: var(--fill-color);\n",
              "    }\n",
              "    30% {\n",
              "      border-color: transparent;\n",
              "      border-left-color: var(--fill-color);\n",
              "      border-top-color: var(--fill-color);\n",
              "      border-right-color: var(--fill-color);\n",
              "    }\n",
              "    40% {\n",
              "      border-color: transparent;\n",
              "      border-right-color: var(--fill-color);\n",
              "      border-top-color: var(--fill-color);\n",
              "    }\n",
              "    60% {\n",
              "      border-color: transparent;\n",
              "      border-right-color: var(--fill-color);\n",
              "    }\n",
              "    80% {\n",
              "      border-color: transparent;\n",
              "      border-right-color: var(--fill-color);\n",
              "      border-bottom-color: var(--fill-color);\n",
              "    }\n",
              "    90% {\n",
              "      border-color: transparent;\n",
              "      border-bottom-color: var(--fill-color);\n",
              "    }\n",
              "  }\n",
              "</style>\n",
              "\n",
              "      <script>\n",
              "        async function quickchart(key) {\n",
              "          const quickchartButtonEl =\n",
              "            document.querySelector('#' + key + ' button');\n",
              "          quickchartButtonEl.disabled = true;  // To prevent multiple clicks.\n",
              "          quickchartButtonEl.classList.add('colab-df-spinner');\n",
              "          try {\n",
              "            const charts = await google.colab.kernel.invokeFunction(\n",
              "                'suggestCharts', [key], {});\n",
              "          } catch (error) {\n",
              "            console.error('Error during call to suggestCharts:', error);\n",
              "          }\n",
              "          quickchartButtonEl.classList.remove('colab-df-spinner');\n",
              "          quickchartButtonEl.classList.add('colab-df-quickchart-complete');\n",
              "        }\n",
              "        (() => {\n",
              "          let quickchartButtonEl =\n",
              "            document.querySelector('#df-d59c8463-87bf-4211-9cd8-441cbb131b3c button');\n",
              "          quickchartButtonEl.style.display =\n",
              "            google.colab.kernel.accessAllowed ? 'block' : 'none';\n",
              "        })();\n",
              "      </script>\n",
              "    </div>\n",
              "\n",
              "    </div>\n",
              "  </div>\n"
            ],
            "application/vnd.google.colaboratory.intrinsic+json": {
              "type": "dataframe",
              "variable_name": "df"
            }
          },
          "metadata": {},
          "execution_count": 4
        }
      ]
    },
    {
      "cell_type": "code",
      "source": [
        "df.info()"
      ],
      "metadata": {
        "id": "L0HBCqRrKnx4",
        "colab": {
          "base_uri": "https://localhost:8080/"
        },
        "outputId": "40513fb5-a4e1-4f46-9db7-1314a67dfd50"
      },
      "execution_count": 5,
      "outputs": [
        {
          "output_type": "stream",
          "name": "stdout",
          "text": [
            "<class 'pandas.core.frame.DataFrame'>\n",
            "RangeIndex: 541909 entries, 0 to 541908\n",
            "Data columns (total 8 columns):\n",
            " #   Column       Non-Null Count   Dtype  \n",
            "---  ------       --------------   -----  \n",
            " 0   InvoiceNo    541909 non-null  object \n",
            " 1   StockCode    541909 non-null  object \n",
            " 2   Description  540455 non-null  object \n",
            " 3   Quantity     541909 non-null  int64  \n",
            " 4   InvoiceDate  541909 non-null  object \n",
            " 5   UnitPrice    541909 non-null  float64\n",
            " 6   CustomerID   406829 non-null  float64\n",
            " 7   Country      541909 non-null  object \n",
            "dtypes: float64(2), int64(1), object(5)\n",
            "memory usage: 33.1+ MB\n"
          ]
        }
      ]
    },
    {
      "cell_type": "code",
      "source": [
        "# 주문 가격 피쳐 생성\n",
        "df[\"TotalPrice\"] = df[\"Quantity\"] * df[\"UnitPrice\"]"
      ],
      "metadata": {
        "id": "9eMYZRXsMvDk"
      },
      "execution_count": 6,
      "outputs": []
    },
    {
      "cell_type": "code",
      "source": [
        "# 'InvoiceDate' 컬럼을 이용하여 주중과 주말을 구분\n",
        "df['InvoiceDate'] = pd.to_datetime(df['InvoiceDate'])\n",
        "df['DayOfWeek'] = df['InvoiceDate'].dt.dayofweek\n",
        "\n",
        "# 'InvoiceDate' 컬럼 이용하여 판매 월 추출\n",
        "df[\"InvoiceDate\"] = pd.to_datetime(df[\"InvoiceDate\"].astype(str))\n",
        "df[\"InvoiceMonth\"] = df[\"InvoiceDate\"].dt.month"
      ],
      "metadata": {
        "id": "Yjh3OImd9Yms",
        "colab": {
          "base_uri": "https://localhost:8080/"
        },
        "outputId": "86f240bc-91d6-4257-d020-32693b18c0b1"
      },
      "execution_count": 7,
      "outputs": [
        {
          "output_type": "stream",
          "name": "stderr",
          "text": [
            "/tmp/ipython-input-3844768752.py:2: UserWarning: Could not infer format, so each element will be parsed individually, falling back to `dateutil`. To ensure parsing is consistent and as-expected, please specify a format.\n",
            "  df['InvoiceDate'] = pd.to_datetime(df['InvoiceDate'])\n"
          ]
        }
      ]
    },
    {
      "cell_type": "markdown",
      "source": [
        "## 1. 모집단과 표본 집단의 TotalPrice를 비교해 주세요.\n",
        "\n",
        "* 데이터셋에서 무작위로 1000개의 표본을 추출하세요.\n",
        "* 추출된 표본과 전체 데이터셋의 'TotalPrice'에 대해 평균과 표준편차를 비교해주세요.  \n",
        "* 중심극한정리를 사용해 모집단과 표본의 차이를 설명해주세요."
      ],
      "metadata": {
        "id": "JT3nUp9NMpGi"
      }
    },
    {
      "cell_type": "code",
      "source": [
        "# 모집단(전체 데이터)의 평균과 표준편차\n",
        "pop_mean = df['TotalPrice'].mean()\n",
        "pop_std = df['TotalPrice'].std(ddof=0) # 모집단 표준편차\n",
        "\n",
        "# 무작위 표본 1000개 추출\n",
        "sample = df.sample(n=1000, random_state=42)\n",
        "\n",
        "# 표본의 평균과 표준편차\n",
        "sample_mean = sample['TotalPrice'].mean()\n",
        "sample_std = sample['TotalPrice'].std(ddof=1) # 표본 표준편차\n",
        "\n",
        "# 표본평균의 표준오차(SE)\n",
        "se = sample_std / np.sqrt(len(sample))\n",
        "\n",
        "# 표본평균이 모집단평균에서 얼마나 떨어졌는지 (z-score)\n",
        "z = (sample_mean - pop_mean) / se"
      ],
      "metadata": {
        "id": "-VJd-zJU9qSR"
      },
      "execution_count": 19,
      "outputs": []
    },
    {
      "cell_type": "code",
      "source": [
        "# 결과 출력\n",
        "print(\"===== 모집단(전체) 통계 =====\")\n",
        "print(f\"모집단 평균: {pop_mean:.4f}\")\n",
        "print(f\"모집단 표준편차: {pop_std:.4f}\")\n",
        "\n",
        "print(\"\\n===== 표본(n=1000) 통계 =====\")\n",
        "print(f\"표본평균: {sample_mean:.4f}\")\n",
        "print(f\"표본 표준편차: {sample_std:.4f}\")\n",
        "print(f\"표본평균의 표준오차: {se:.4f}\")\n",
        "print(f\"표본평균의 z값: {z:.4f}\")\n",
        "\n",
        "# 중심극한정리 기반 해석\n",
        "alpha_z = 1.96 # 95% 신뢰구간 기준 z값\n",
        "if abs(z) < alpha_z:\n",
        "  print(f\"\\n→ |z| = {abs(z):.2f} < 1.96 이므로, 표본평균은 모집단 평균과 통계적으로 유의미한 차이가 없습니다.\")\n",
        "  print(\"   즉, 표본은 모집단을 잘 대표하며 중심극한정리에 따라 표본평균이 모집단 평균에 근사합니다.\")\n",
        "else:\n",
        "  print(f\"\\n→ |z| = {abs(z):.2f} ≥ 1.96 이므로, 표본평균이 모집단평균과 통계적으로 차이가 있습니다.\")\n",
        "  print(\"   이는 표본이 모집단의 평균에서 벗어난 극단적 표본일 가능성이 있습니다.\")"
      ],
      "metadata": {
        "id": "ZauLBaxV9qJf",
        "colab": {
          "base_uri": "https://localhost:8080/"
        },
        "outputId": "98d79343-3be9-43c8-9c9f-041b9451c089"
      },
      "execution_count": 20,
      "outputs": [
        {
          "output_type": "stream",
          "name": "stdout",
          "text": [
            "===== 모집단(전체) 통계 =====\n",
            "모집단 평균: 17.9878\n",
            "모집단 표준편차: 378.8105\n",
            "\n",
            "===== 표본(n=1000) 통계 =====\n",
            "표본평균: 16.8321\n",
            "표본 표준편차: 64.4673\n",
            "표본평균의 표준오차: 2.0386\n",
            "표본평균의 z값: -0.5669\n",
            "\n",
            "→ |z| = 0.57 < 1.96 이므로, 표본평균은 모집단 평균과 통계적으로 유의미한 차이가 없습니다.\n",
            "   즉, 표본은 모집단을 잘 대표하며 중심극한정리에 따라 표본평균이 모집단 평균에 근사합니다.\n"
          ]
        }
      ]
    },
    {
      "cell_type": "markdown",
      "source": [
        "## 2. 주문이 가장 많은 상위 두 국가의 'TotalPrice' 평균에 차이가 있는지 검증하세요.\n",
        "\n",
        "* 'Country' 변수를 바탕으로 주문이 가장 많은 상위 두 국가를 찾으세요.\n",
        "* 독립표본 t-검정을 사용하여 두 국가 간 'TotalPrice' 평균의 차이가 통계적으로 유의미한지 검증하세요.  \n",
        "* t-통계량과 p-값을 해석하여 결과를 설명하고, 1종 오류와 2종 오류의 개념을 적용하여 설명해주세요."
      ],
      "metadata": {
        "id": "dvTXhGBpNG2E"
      }
    },
    {
      "cell_type": "code",
      "source": [
        "from scipy import stats\n",
        "\n",
        "# 주문이 가장 많은 상위 두 국가 찾기\n",
        "top2_countries = df['Country'].value_counts().head(2).index.tolist()\n",
        "country_a, country_b = top2_countries[0], top2_countries[1]\n",
        "\n",
        "print(\"주문이 가장 많은 상위 2개 국가:\", country_a, \"vs\", country_b)\n",
        "\n",
        "# 각 국가의 TotalPrice 데이터 추출\n",
        "a_data = df[df['Country'] == country_a]['TotalPrice'].dropna()\n",
        "b_data = df[df['Country'] == country_b]['TotalPrice'].dropna()\n",
        "\n",
        "# 기초 통계 비교\n",
        "print(\"\\n===== 기초 통계 =====\")\n",
        "print(f\"{country_a} 평균: {a_data.mean():.4f}, 표준편차: {a_data.std():.4f}, n={len(a_data)}\")\n",
        "print(f\"{country_b} 평균: {b_data.mean():.4f}, 표준편차: {b_data.std():.4f}, n={len(b_data)}\")\n",
        "\n",
        "# 등분산 검정 (Levene test)\n",
        "levene_stat, levene_p = stats.levene(a_data, b_data)\n",
        "equal_var = (levene_p > 0.05)\n",
        "print(\"\\nLevene 등분산성 검정 p-value:\", round(levene_p, 4))\n",
        "print(\"등분산성 가정:\", \"만족(equal variances)\" if equal_var else \"불만족(unequal variances)\")"
      ],
      "metadata": {
        "id": "ffgl-6Kk9rrO",
        "colab": {
          "base_uri": "https://localhost:8080/"
        },
        "outputId": "a8f8654b-ece1-4a97-fe7b-fe3422511e42"
      },
      "execution_count": 27,
      "outputs": [
        {
          "output_type": "stream",
          "name": "stdout",
          "text": [
            "주문이 가장 많은 상위 2개 국가: United Kingdom vs Germany\n",
            "\n",
            "===== 기초 통계 =====\n",
            "United Kingdom 평균: 16.5251, 표준편차: 394.8391, n=495478\n",
            "Germany 평균: 23.3489, 표준편차: 37.3248, n=9495\n",
            "\n",
            "Levene 등분산성 검정 p-value: 0.6125\n",
            "등분산성 가정: 만족(equal variances)\n"
          ]
        }
      ]
    },
    {
      "cell_type": "code",
      "source": [
        "# 독립표본 t-검정 수행\n",
        "t_stat, p_value = stats.ttest_ind(a_data, b_data, equal_var=equal_var)\n",
        "\n",
        "print(\"\\n===== 독립표본 t-검정 결과 =====\")\n",
        "print(f\"t-통계량: {t_stat:.4f}\")\n",
        "print(f\"p-값: {p_value:.6f}\")\n",
        "\n",
        "# 통계적 해석\n",
        "alpha = 0.05\n",
        "if p_value < alpha:\n",
        "  print(f\"\\n→ p-value < {alpha} 이므로 귀무가설 기각.\")\n",
        "  print(\"   즉, 두 국가의 'TotalPrice' 평균은 통계적으로 유의미한 차이가 있습니다.\")\n",
        "else:\n",
        "  print(f\"\\n→ p-value >= {alpha} 이므로 귀무가설 채택.\")\n",
        "  print(\"   즉, 두 국가의 'TotalPrice' 평균 차이는 통계적으로 유의하지 않습니다.\")\n",
        "\n",
        "# 오류 개념 해석\n",
        "print(\"\\n===== 요류 개념 정리 =====\")\n",
        "print(\"- 귀무가설: 두 국가의 평균 TotalPrice는 같다.\")\n",
        "print(\"- 대립가설: 두 국가의 평균 TotalPrice는 다르다.\")\n",
        "print(\"\\n1종 오류:\")\n",
        "print(\"   실제로 두 국가의 평균이 같은데, 통계적으로 다르다고 잘못 결론내리는 오류(false positive).\")\n",
        "print(\"   이 오류의 확률은 유의수준 α(보통 0.05)로 통제됨.\")\n",
        "print(\"\\n2종 오류:\")\n",
        "print(\"   실제로 두 국가의 평균이 다른데, 통계적으로 차이가 없다고 결론내리는 오류(false negative).\")\n",
        "print(\"   표본 크기가 작거나 분산이 크면 2종 오류 확률이 증가함.\")\n"
      ],
      "metadata": {
        "id": "UuN-1uRCNz_I",
        "colab": {
          "base_uri": "https://localhost:8080/"
        },
        "outputId": "ec65e3d0-6c56-48d5-9a7e-a63ed0c7e85d"
      },
      "execution_count": 28,
      "outputs": [
        {
          "output_type": "stream",
          "name": "stdout",
          "text": [
            "\n",
            "===== 독립표본 t-검정 결과 =====\n",
            "t-통계량: -1.6839\n",
            "p-값: 0.092198\n",
            "\n",
            "→ p-value >= 0.05 이므로 귀무가설 채택.\n",
            "   즉, 두 국가의 'TotalPrice' 평균 차이는 통계적으로 유의하지 않습니다.\n",
            "\n",
            "===== 요류 개념 정리 =====\n",
            "- 귀무가설: 두 국가의 평균 TotalPrice는 같다.\n",
            "- 대립가설: 두 국가의 평균 TotalPrice는 다르다.\n",
            "\n",
            "1종 오류:\n",
            "   실제로 두 국가의 평균이 같은데, 통계적으로 다르다고 잘못 결론내리는 오류(false positive).\n",
            "   이 오류의 확률은 유의수준 α(보통 0.05)로 통제됨.\n",
            "\n",
            "2종 오류:\n",
            "   실제로 두 국가의 평균이 다른데, 통계적으로 차이가 없다고 결론내리는 오류(false negative).\n",
            "   표본 크기가 작거나 분산이 크면 2종 오류 확률이 증가함.\n"
          ]
        }
      ]
    },
    {
      "cell_type": "markdown",
      "source": [
        "## 3. 주중, 주말에 따라서 발생하는 UnitPrice의 분포가 달라지는지 확인하세요.\n",
        "\n",
        "* 주중의 'UnitPrice'와 주말의 'UnitPrice'의 분포를 분석하기 위해 데이터의 중심경향치(평균, 중간값), 변산성(표준편차, 분산), 분위수를 계산하세요.  \n",
        "* 상자수염그림과 히스토그램을 그려 시각화를 통해 분포를 확인하고 데이터의 분포에 대해 설명해주세요."
      ],
      "metadata": {
        "id": "yWpUgBedN0PK"
      }
    },
    {
      "cell_type": "code",
      "source": [
        "import matplotlib.pyplot as plt\n",
        "import seaborn as sns\n",
        "\n",
        "# 주중/주말 구분\n",
        "df['IsWeekend'] = np.where(df['DayOfWeek'] >= 5, 'Weekend', 'Weekday')\n",
        "\n",
        "# 그룹별 중심결향치, 변산성 분위수 계산\n",
        "group_stats = df.groupby('IsWeekend')['UnitPrice'].agg(\n",
        "    mean='mean',\n",
        "    median='median',\n",
        "    std='std',\n",
        "    var='var',\n",
        "    q25=lambda x: x.quantile(0.25),\n",
        "    q75=lambda x: x.quantile(0.75)\n",
        ").round(4)\n",
        "\n",
        "print(\"===== 주중 vs 주말 UnitPrice 통계 요약 =====\")\n",
        "print(group_stats)"
      ],
      "metadata": {
        "id": "rAMuPWXh9uAN",
        "colab": {
          "base_uri": "https://localhost:8080/"
        },
        "outputId": "f4da768e-d66e-45d2-9099-1a94a14b5d8c"
      },
      "execution_count": 31,
      "outputs": [
        {
          "output_type": "stream",
          "name": "stdout",
          "text": [
            "===== 주중 vs 주말 UnitPrice 통계 요약 =====\n",
            "             mean  median       std         var   q25   q75\n",
            "IsWeekend                                                  \n",
            "Weekday    4.8434    2.10  103.0321  10615.6049  1.25  4.13\n",
            "Weekend    2.8878    1.85    7.9595     63.3536  1.25  3.75\n"
          ]
        }
      ]
    },
    {
      "cell_type": "code",
      "source": [
        "# 이상치 제거: UnitPrice가 0보다 크고, 상위 99% 이하 데이터만 사용\n",
        "filtered_df = df[(df['UnitPrice'] > 0) &\n",
        "                 (df['UnitPrice'] <= df['UnitPrice'].quantile(0.99))]\n",
        "\n",
        "\n",
        "# 히스토그램 시각화\n",
        "plt.figure(figsize=(10,5))\n",
        "sns.histplot(df[df['IsWeekend']=='Weekday']['UnitPrice'],\n",
        "             bins=50, color='skyblue', label='Weekday', kde=True)\n",
        "sns.histplot(df[df['IsWeekend']=='Weekend']['UnitPrice'],\n",
        "             bins=50, color='salmon', label='Weekday', kde=True)\n",
        "plt.legend()\n",
        "plt.title('주중 vs 주말 UnitPrice 분포 비교')\n",
        "plt.xlabel('UnitPrice')\n",
        "plt.ylabel('빈도수')\n",
        "plt.show()\n",
        "\n",
        "# 상자수염그림(Boxplot)\n",
        "plt.figure(figsize=(8,5))\n",
        "sns.boxplot(x='IsWeekend', y='UnitPrice', data=df, palette=['skyblue', 'salmon'])\n",
        "plt.yscale('log')\n",
        "plt.title('주중 vs 주말 UnitPrice')\n",
        "plt.xlabel('요일 구분')\n",
        "plt.ylabel('UnitPrice')\n",
        "plt.show()"
      ],
      "metadata": {
        "id": "qynX6XgM9t5n",
        "colab": {
          "base_uri": "https://localhost:8080/",
          "height": 1000
        },
        "outputId": "e9b0558a-211f-4809-9adf-2f207e4f42e7"
      },
      "execution_count": 33,
      "outputs": [
        {
          "output_type": "stream",
          "name": "stderr",
          "text": [
            "/usr/local/lib/python3.12/dist-packages/IPython/core/pylabtools.py:151: UserWarning: Glyph 48712 (\\N{HANGUL SYLLABLE BIN}) missing from font(s) DejaVu Sans.\n",
            "  fig.canvas.print_figure(bytes_io, **kw)\n",
            "/usr/local/lib/python3.12/dist-packages/IPython/core/pylabtools.py:151: UserWarning: Glyph 46020 (\\N{HANGUL SYLLABLE DO}) missing from font(s) DejaVu Sans.\n",
            "  fig.canvas.print_figure(bytes_io, **kw)\n",
            "/usr/local/lib/python3.12/dist-packages/IPython/core/pylabtools.py:151: UserWarning: Glyph 49688 (\\N{HANGUL SYLLABLE SU}) missing from font(s) DejaVu Sans.\n",
            "  fig.canvas.print_figure(bytes_io, **kw)\n",
            "/usr/local/lib/python3.12/dist-packages/IPython/core/pylabtools.py:151: UserWarning: Glyph 51452 (\\N{HANGUL SYLLABLE JU}) missing from font(s) DejaVu Sans.\n",
            "  fig.canvas.print_figure(bytes_io, **kw)\n",
            "/usr/local/lib/python3.12/dist-packages/IPython/core/pylabtools.py:151: UserWarning: Glyph 51473 (\\N{HANGUL SYLLABLE JUNG}) missing from font(s) DejaVu Sans.\n",
            "  fig.canvas.print_figure(bytes_io, **kw)\n",
            "/usr/local/lib/python3.12/dist-packages/IPython/core/pylabtools.py:151: UserWarning: Glyph 47568 (\\N{HANGUL SYLLABLE MAL}) missing from font(s) DejaVu Sans.\n",
            "  fig.canvas.print_figure(bytes_io, **kw)\n",
            "/usr/local/lib/python3.12/dist-packages/IPython/core/pylabtools.py:151: UserWarning: Glyph 48516 (\\N{HANGUL SYLLABLE BUN}) missing from font(s) DejaVu Sans.\n",
            "  fig.canvas.print_figure(bytes_io, **kw)\n",
            "/usr/local/lib/python3.12/dist-packages/IPython/core/pylabtools.py:151: UserWarning: Glyph 54252 (\\N{HANGUL SYLLABLE PO}) missing from font(s) DejaVu Sans.\n",
            "  fig.canvas.print_figure(bytes_io, **kw)\n",
            "/usr/local/lib/python3.12/dist-packages/IPython/core/pylabtools.py:151: UserWarning: Glyph 48708 (\\N{HANGUL SYLLABLE BI}) missing from font(s) DejaVu Sans.\n",
            "  fig.canvas.print_figure(bytes_io, **kw)\n",
            "/usr/local/lib/python3.12/dist-packages/IPython/core/pylabtools.py:151: UserWarning: Glyph 44368 (\\N{HANGUL SYLLABLE GYO}) missing from font(s) DejaVu Sans.\n",
            "  fig.canvas.print_figure(bytes_io, **kw)\n"
          ]
        },
        {
          "output_type": "display_data",
          "data": {
            "text/plain": [
              "<Figure size 1000x500 with 1 Axes>"
            ],
            "image/png": "[encoded data removed]"
          },
          "metadata": {}
        },
        {
          "output_type": "stream",
          "name": "stderr",
          "text": [
            "/tmp/ipython-input-1653218745.py:20: FutureWarning: \n",
            "\n",
            "Passing `palette` without assigning `hue` is deprecated and will be removed in v0.14.0. Assign the `x` variable to `hue` and set `legend=False` for the same effect.\n",
            "\n",
            "  sns.boxplot(x='IsWeekend', y='UnitPrice', data=df, palette=['skyblue', 'salmon'])\n",
            "/usr/local/lib/python3.12/dist-packages/IPython/core/pylabtools.py:151: UserWarning: Glyph 51452 (\\N{HANGUL SYLLABLE JU}) missing from font(s) DejaVu Sans.\n",
            "  fig.canvas.print_figure(bytes_io, **kw)\n",
            "/usr/local/lib/python3.12/dist-packages/IPython/core/pylabtools.py:151: UserWarning: Glyph 51473 (\\N{HANGUL SYLLABLE JUNG}) missing from font(s) DejaVu Sans.\n",
            "  fig.canvas.print_figure(bytes_io, **kw)\n",
            "/usr/local/lib/python3.12/dist-packages/IPython/core/pylabtools.py:151: UserWarning: Glyph 47568 (\\N{HANGUL SYLLABLE MAL}) missing from font(s) DejaVu Sans.\n",
            "  fig.canvas.print_figure(bytes_io, **kw)\n",
            "/usr/local/lib/python3.12/dist-packages/IPython/core/pylabtools.py:151: UserWarning: Glyph 50836 (\\N{HANGUL SYLLABLE YO}) missing from font(s) DejaVu Sans.\n",
            "  fig.canvas.print_figure(bytes_io, **kw)\n",
            "/usr/local/lib/python3.12/dist-packages/IPython/core/pylabtools.py:151: UserWarning: Glyph 51068 (\\N{HANGUL SYLLABLE IL}) missing from font(s) DejaVu Sans.\n",
            "  fig.canvas.print_figure(bytes_io, **kw)\n",
            "/usr/local/lib/python3.12/dist-packages/IPython/core/pylabtools.py:151: UserWarning: Glyph 44396 (\\N{HANGUL SYLLABLE GU}) missing from font(s) DejaVu Sans.\n",
            "  fig.canvas.print_figure(bytes_io, **kw)\n",
            "/usr/local/lib/python3.12/dist-packages/IPython/core/pylabtools.py:151: UserWarning: Glyph 48516 (\\N{HANGUL SYLLABLE BUN}) missing from font(s) DejaVu Sans.\n",
            "  fig.canvas.print_figure(bytes_io, **kw)\n"
          ]
        },
        {
          "output_type": "display_data",
          "data": {
            "text/plain": [
              "<Figure size 800x500 with 1 Axes>"
            ],
            "image/png": "[encoded data removed]"
          },
          "metadata": {}
        }
      ]
    },
    {
      "cell_type": "markdown",
      "source": [
        "주중과 주말의 UnitPrice 분포를 비교한 결과,\n",
        "두 구간 모두 오른쪽으로 치우친 분포를 보였으며,\n",
        "대부분의 거래는 낮은 단가(10 이하)에 집중되어 있다.\n",
        "\n",
        "로그 스케일 Boxplot을 통해 확인한 결과,\n",
        "주중의 이상치가 주말보다 많아 고가 상품 거래가 더 빈번하게 발생했음을 알 수 있다.\n",
        "반면, 주말은 전반적으로 변동성이 작고 안정적인 단가 분포를 보였다.\n",
        "\n",
        "따라서 요일에 따른 판매 단가의 전반적 수준에는 큰 차이가 없지만,\n",
        "주중에는 고가 상품이 포함된 다양한 거래가 더 활발하게 이루어지는 경향이 있다고 결론지을 수 있다."
      ],
      "metadata": {
        "id": "YHWloE2KATJz"
      }
    },
    {
      "cell_type": "markdown",
      "source": [
        "## 4. 상품의 단가와 판매 국가, 판매 날짜을 이용해 판매 수량을 예측하는 회귀 모델을 만드세요.\n",
        "* 필요한 데이터를 정리하고 결측치와 이상치를 제거해주세요.  \n",
        "* 변수를 다음과 같이 설정하여 다중 선형 회귀 분석을 진행하세요.\n",
        "    * 종속변수: 판매 수량(`Quantity`)\n",
        "    * 독립변수: 상품 단가(`UnitPrice`), 판매 국가(`Country`), 판매 요일(`DayOfWeek`), 판매 월( `InvoiceMonth`)   \n",
        "* 회귀계수와 결정계수를 활용하여 회귀 분석 결과를 해석해주세요."
      ],
      "metadata": {
        "id": "zbNpkFBBT4aK"
      }
    },
    {
      "cell_type": "code",
      "source": [
        "import statsmodels.api as sm\n",
        "from sklearn.preprocessing import LabelEncoder\n",
        "\n",
        "# 필요 변수만 선택\n",
        "data = df[['Quantity', 'UnitPrice', 'Country', 'InvoiceDate']].copy()\n",
        "\n",
        "# 날짜 변수 처리\n",
        "data['InvoiceDate'] = pd.to_datetime(data['InvoiceDate'], errors='coerce')\n",
        "data = data.dropna(subset=['InvoiceDate'])\n",
        "\n",
        "# 요일, 월 변수 생성\n",
        "data['DayOfWeek'] = data['InvoiceDate'].dt.dayofweek  # 0=월, 6=일\n",
        "data['InvoiceMonth'] = data['InvoiceDate'].dt.month\n",
        "\n",
        "\n",
        "# 결측치 제거\n",
        "data = data.dropna(subset=['Quantity', 'UnitPrice', 'Country'])\n",
        "\n",
        "# 이상치 제거 (단가나 수량이 0 이하인 경우 제거)\n",
        "data = data[(data['Quantity'] > 0) & (data['UnitPrice'] > 0)]\n",
        "\n",
        "# 국가 변수 인코딩\n",
        "encoder = LabelEncoder()\n",
        "data['Country_encoded'] = encoder.fit_transform(data['Country'])"
      ],
      "metadata": {
        "id": "katPA0wf9wST"
      },
      "execution_count": 34,
      "outputs": []
    },
    {
      "cell_type": "code",
      "source": [
        "# 독립변수와 종속변수 지정\n",
        "X = data[['UnitPrice', 'Country_encoded', 'DayOfWeek', 'InvoiceMonth']]\n",
        "y = data['Quantity']\n",
        "\n",
        "# 상수항 추가\n",
        "X = sm.add_constant(X)\n",
        "\n",
        "# 회귀모델 적합\n",
        "model = sm.OLS(y, X).fit()\n",
        "\n",
        "# 결과 요약 출력\n",
        "print(model.summary())"
      ],
      "metadata": {
        "id": "RqKAADX-9wLv",
        "colab": {
          "base_uri": "https://localhost:8080/"
        },
        "outputId": "d6f86afc-02ac-4272-eb80-882d5dcdda7a"
      },
      "execution_count": 35,
      "outputs": [
        {
          "output_type": "stream",
          "name": "stdout",
          "text": [
            "                            OLS Regression Results                            \n",
            "==============================================================================\n",
            "Dep. Variable:               Quantity   R-squared:                       0.000\n",
            "Model:                            OLS   Adj. R-squared:                  0.000\n",
            "Method:                 Least Squares   F-statistic:                     40.09\n",
            "Date:                Thu, 30 Oct 2025   Prob (F-statistic):           1.23e-33\n",
            "Time:                        07:32:57   Log-Likelihood:            -3.4274e+06\n",
            "No. Observations:              530104   AIC:                         6.855e+06\n",
            "Df Residuals:                  530099   BIC:                         6.855e+06\n",
            "Df Model:                           4                                         \n",
            "Covariance Type:            nonrobust                                         \n",
            "===================================================================================\n",
            "                      coef    std err          t      P>|t|      [0.025      0.975]\n",
            "-----------------------------------------------------------------------------------\n",
            "const              26.0733      1.304     19.992      0.000      23.517      28.629\n",
            "UnitPrice          -0.0167      0.006     -2.813      0.005      -0.028      -0.005\n",
            "Country_encoded    -0.4168      0.034    -12.083      0.000      -0.484      -0.349\n",
            "DayOfWeek          -0.2182      0.116     -1.889      0.059      -0.445       0.008\n",
            "InvoiceMonth       -0.0857      0.061     -1.407      0.160      -0.205       0.034\n",
            "================================================================================\n",
            "Omnibus:                  3270968.402   Durbin-Watson:                     1.954\n",
            "Prob(Omnibus):                  0.000   Jarque-Bera (JB):   1236600795665151.250\n",
            "Skew:                         471.952   Prob(JB):                           0.00\n",
            "Kurtosis:                  236614.792   Cond. No.                           231.\n",
            "================================================================================\n",
            "\n",
            "Notes:\n",
            "[1] Standard Errors assume that the covariance matrix of the errors is correctly specified.\n"
          ]
        }
      ]
    },
    {
      "cell_type": "markdown",
      "source": [
        "- 단가가 높을수록 판매량은 통계적으로 우의하게 감소함.\n",
        "- 국가는 판매 수량에 유의한 차이를 보임\n",
        "- 요일 및 월별 요인은 통계적으로 유의하지 않음.\n",
        "- 전체적으로 R2가 매우 낮아, 현재 변수들만으로 판매량을 설명하기는 어렵다."
      ],
      "metadata": {
        "id": "K7MQOsyzCf2x"
      }
    },
    {
      "cell_type": "markdown",
      "source": [
        "## 5. 상품 정보와 거래 정보를 바탕으로 해당 거래가 반품될 가능성을 예측하는 로지스틱 회귀 모델을 만드세요.\n",
        "* 필요한 데이터를 정리하고 결측치와 이상치를 제거해주세요.  \n",
        "* `Quantity` 피쳐를 활용해 `IsReturn` 피쳐를 생성하세요.\n",
        "* 모델 학습에 사용할 적절한 피쳐를 선정하세요.\n",
        "* 모델 학습과 검증을 위해 데이터셋을 train셋과 test셋으로 나누세요.\n",
        "* `IsReturn`을 예측하는 로지스틱 회귀 모델을 학습하세요.\n",
        "* 혼동행렬, 정밀도, 재현율, F1-score 등 다양한 평가지표를 사용하여 모델의 성능을 평가하세요.\n",
        "* 모델의 성능을 더 높일 수 있는 방안에 대해서 고민해보세요."
      ],
      "metadata": {
        "id": "QDgJTeRoUwjf"
      }
    },
    {
      "cell_type": "code",
      "source": [
        "from sklearn.model_selection import train_test_split\n",
        "from sklearn.linear_model import LogisticRegression\n",
        "from sklearn.metrics import confusion_matrix, classification_report, accuracy_score, precision_score, recall_score, f1_score\n",
        "\n",
        "# 필요한 변수만 선택\n",
        "data = df[['InvoiceNo', 'Quantity', 'UnitPrice', 'Country', 'DayOfWeek', 'InvoiceMonth']].copy()\n",
        "\n",
        "# 결측치 제거\n",
        "data = data.dropna()\n",
        "\n",
        "# 이상치 제거 (단가나 수량이 0인 경우)\n",
        "data = data[(data['UnitPrice'] > 0) & (data['Quantity'] != 0)]"
      ],
      "metadata": {
        "id": "mcvefNO19yk6"
      },
      "execution_count": 36,
      "outputs": []
    },
    {
      "cell_type": "code",
      "source": [
        "# Quantity가 음수면 반품(1), 양수면 정상 구매(0)\n",
        "data['IsReturn'] = np.where(data['Quantity'] < 0, 1, 0)\n",
        "\n",
        "# 로지스틱 회귀에서는 Quantity 대신 IsReturn을 종속변수로 사용"
      ],
      "metadata": {
        "id": "qk0d5pqM9yVk"
      },
      "execution_count": 37,
      "outputs": []
    },
    {
      "cell_type": "code",
      "source": [
        "from sklearn.preprocessing import LabelEncoder\n",
        "\n",
        "# 범주형 변수 인코딩\n",
        "encoder = LabelEncoder()\n",
        "data['Country_encoded'] = encoder.fit_transform(data['Country'])\n",
        "\n",
        "# 독립 변수와 종속 변수 지정\n",
        "X = data[['UnitPrice', 'Country_encoded', 'DayOfWeek', 'InvoiceMonth']]\n",
        "y = data['IsReturn']"
      ],
      "metadata": {
        "id": "e2ObIe3KDtUN"
      },
      "execution_count": 38,
      "outputs": []
    },
    {
      "cell_type": "code",
      "source": [
        "X_train, X_test, y_train, y_test = train_test_split(\n",
        "    X, y, test_size=0.2, random_state=42, stratify=y\n",
        ")"
      ],
      "metadata": {
        "id": "Q9xtxtudDzR3"
      },
      "execution_count": 39,
      "outputs": []
    },
    {
      "cell_type": "code",
      "source": [
        "# 모델 정의 및 학습\n",
        "model = LogisticRegression(max_iter=1000)\n",
        "model.fit(X_train, y_train)\n",
        "\n",
        "# 예측\n",
        "y_pred = model.predict(X_test)\n",
        "y_proba = model.predict_proba(X_test)[:, 1]"
      ],
      "metadata": {
        "id": "X6ZmXsorD6At"
      },
      "execution_count": 40,
      "outputs": []
    },
    {
      "cell_type": "code",
      "source": [
        "# 혼동행렬\n",
        "cm = confusion_matrix(y_test, y_pred)\n",
        "\n",
        "# 다양한 평가지표 계산\n",
        "acc = accuracy_score(y_test, y_pred)\n",
        "prec = precision_score(y_test, y_pred)\n",
        "rec = recall_score(y_test, y_pred)\n",
        "f1 = f1_score(y_test, y_pred)\n",
        "\n",
        "print(\"혼동행렬:\\n\", cm)\n",
        "print(f\"\\n정확도(Accuracy): {acc:.4f}\")\n",
        "print(f\"정밀도(Precision): {prec:.4f}\")\n",
        "print(f\"재현율(Recall): {rec:.4f}\")\n",
        "print(f\"F1-score: {f1:.4f}\")\n",
        "print(\"\\n상세 리포트:\\n\", classification_report(y_test, y_pred))"
      ],
      "metadata": {
        "colab": {
          "base_uri": "https://localhost:8080/"
        },
        "id": "yRC6pvhqD9nR",
        "outputId": "cf7790f2-7974-4124-b920-dfd4cbbc81e3"
      },
      "execution_count": 41,
      "outputs": [
        {
          "output_type": "stream",
          "name": "stdout",
          "text": [
            "혼동행렬:\n",
            " [[106005     16]\n",
            " [  1847     11]]\n",
            "\n",
            "정확도(Accuracy): 0.9827\n",
            "정밀도(Precision): 0.4074\n",
            "재현율(Recall): 0.0059\n",
            "F1-score: 0.0117\n",
            "\n",
            "상세 리포트:\n",
            "               precision    recall  f1-score   support\n",
            "\n",
            "           0       0.98      1.00      0.99    106021\n",
            "           1       0.41      0.01      0.01      1858\n",
            "\n",
            "    accuracy                           0.98    107879\n",
            "   macro avg       0.70      0.50      0.50    107879\n",
            "weighted avg       0.97      0.98      0.97    107879\n",
            "\n"
          ]
        }
      ]
    },
    {
      "cell_type": "markdown",
      "source": [
        "모델의 성능을 더 높일 수 있는 방안에 대한 ChatGPT의 답변\n",
        "->\n",
        "데이터 균형 조정, 특성(Feature) 확장, 특성 변환, 모델 고도화, 평가지표 개선"
      ],
      "metadata": {
        "id": "zAbUIhIxEJxQ"
      }
    }
  ]
}